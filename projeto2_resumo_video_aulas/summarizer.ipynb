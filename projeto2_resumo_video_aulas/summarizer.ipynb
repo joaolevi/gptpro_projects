{
 "cells": [
  {
   "cell_type": "code",
   "execution_count": 1,
   "metadata": {},
   "outputs": [],
   "source": [
    "from youtube_transcript_api import YouTubeTranscriptApi"
   ]
  },
  {
   "cell_type": "code",
   "execution_count": 2,
   "metadata": {},
   "outputs": [],
   "source": [
    "video_id = \"ouq9tU5DUOc\"\n",
    "transcript = YouTubeTranscriptApi.get_transcript(video_id, languages=['pt'])"
   ]
  },
  {
   "cell_type": "code",
   "execution_count": 3,
   "metadata": {},
   "outputs": [
    {
     "name": "stdout",
     "output_type": "stream",
     "text": [
      "[Música] olá pessoal eu sou professor scavone e nós vamos hoje feira uma revisão de história do brasil no período colonial aquino ao ar livre ponto net vem comigo bom a grande dificuldade do aluno via de regra é interesse longo período colonial que começa lá em 1500 e vai até 1822 são 300 e tantos anos de história é difícil compreender isso é mas hoje nós vamos facilitar então essa tarefa e o estudante vejamos lá primeiro vamos caracterizar esse período rapidamente o brasil durante o período colonial vai ser um país monocultor agro exportador e escravista ou seja durante todo esse período a toda a produção brasileira vai ser sempre voltada para o exterior certo muito bem agora o outro problema que é um problema sério como é que nós vamos encampar e entender esse período tão longo de tempo muito bem que nós vamos fazer vamos primeiro dividir em dois períodos que a divisão clássica os historiadores utilizam se divide em período pré colonial esses primeiros 30 anos da história brasileira de 1.500 a 1530 porque pré-colonial colonial porque de durante esses 30 anos portugal não se preocupou em ocupar a terra em colonizar o brasil isso vai ocorrer a partir de 30 a partir de 1530 muito bem nós sabemos então que esse primeiro período do brasil da história brasileira é um período tranqüilo via de regra os estudantes dominam esse assunto e depois vamos esperar um pouquinho mas agora como é que eu vou entender esse período que vai de 30 até 1822 aí está a dificuldade e o segredo pra isso que nós vamos utilizar é identificar a união ibérica que começa em 1580 e vai 1640 que que é a união ibérica final de contas bom a união ibérica é o período em que portugal passa a pertencer aos domínios de espanha o brasil era uma colônia portuguesa desde então 2.500 a partir de 1580 o rei de espanha passa a ser também rei de portugal e ele acaba englobando todo o vasto império colonial português aos seus domínios tá certo e nessa incorporação evidentemente que o brasil foi junto então durante 60 anos o brasil não é português o brasil é espanhol o fato é que nós vamos encontrar uma colônia antes da dominação espanhola e uma colônia que vai ser bastante diferente depois de 1640 depois da restauração portuguesa ou seja quando os portugueses retomam de novo o poder em portugal tá certo então a nossa referência repetindo vai ser aqui ó entre 1580 1640 uma colônia antes que estabelece uma relação com portugal antes disso em uma colônia que estabelece uma relação com a sua metrópole portugal depois disso bom século 16 e século 17 é o século do açúcar aqui no brasil o século 18 é o século do ouro mas isso aí nós vamos ver logo em seguida primeiro vamos começar com a primeira fase do período colonial brasileiro a primeira fase que eu chamei pra você o que eu chamei anteriormente de período pré colonial é oq é a época em que vai se dá a exploração do pau brasil só em todo mundo sabe certo durante os primeiros trinta anos os portugueses procurar alguma riqueza que no brasil há normalmente essa riqueza pressupunham eles deveria ser metais preciosos o ouro prata diamantes não encontraram isso a única riqueza que encontraram foi o pau brasil e os portugueses vão se dedicar então a exploração desse pau-brasil aqui muito bem o que eles fazem nesse período nesse período vamos dar uma olhadinha na outra imagem nós vamos ver se estabelece ao longo da costa brasileira feitorias mas que são vetores feitoria são depósitos de pau brasil quem é que traz esses esse pau brasil para essas feitorias os indígenas os indígenas que aqui habitavam eles vão ser utilizados como mão-de-obra e um detalhe importante que nós não podemos esquecer aqui essa mão de obra ela é livre nesse primeiro momento a partir de 1530 quando os portugueses resolvem ocupar definitivamente o território a partir desse momento a relação dos portugueses com indígenas se altera como se altera eles passam os portugueses passam a escravizar os indígenas então também um detalhe importante que nós não podemos esquecer que a partir de 1530 começa a ocupação do território começa a colonização como essa à escravidão no brasil via de regra a gente associa à escravidão com a escravidão africana a portugal trazendo lá da áfrica escravos para trabalhar na lavoura a sua carreira mas num primeiro momento não podemos esquecer durante bastante tempo até o século 17 a escravidão indígena era bastante utilizado aqui no brasil muito bem nesse primeiro momento estamos examinando período pré-colonial a relação do indígena é uma relação tranquila ainda com o português português estabelece feitorias os indígenas trazem o pau brasil para essas feitorias e eles são pagos com quinquilharias essa relação entre trabalho que é pago com quinquilharias é o que nós chamamos ali de campo tranqüilo período pré-colonial tranquilo vamos avançar muito bem a partir de 32 olha lá 1530 1572 se começa a construir a empresa açucareira aqui no brasil então o século 16 até o fim até metade praticamente do século 17 até o final do século 17 nós vamos ter a empresa açucareira aqui no brasil a relação que portugal vai estabelecer com essa colonização vai ser uma relação bastante complexo nós chamamos hoje isso de terceirização como assim como é que funciona essa terceirização pensemos nós a coroa portuguesa que ia colonizar o brasil mas não queria investir grandes fortunas que ela faz ela passa para terceiros essa iniciativa todos os gastos da colonização quem vai realizar são terceiros para isso ela busca um parceiro quem é esse parceiro português os holandeses então durante o período do domínio do açúcar o grande parceiro português são os holandeses muito bem como é que se constitui essa a forma de exploração da colônia durante esse período portugal resolve construir aqui constituir aqui no brasil a adotar aqui no brasil o sistema de plantation é a plantation açucareira essa fronteira açucareira se caracteriza por quatro elementos que todos nós sabemos que não devemos esquecer latifúndio em monocultura escravismo e produção toda ela voltada para a exportação esses são os quatro elementos que caracterizam a plantation açucareira e que de algum modo vão marcar a história do brasil durante muitos séculos ainda o brasil vai ser dominado e ainda hoje ainda há uma presença muito grande latifúndio aqui no brasil o que faz com que a questão das terras a questão da distribuição da divisão das terras o aproveitamento das peças seja um problema bastante sério e um tema bem polêmico é na nossa conjuntura hoje um tema bem polêmico para as estudar ou para se pensar no século 16 a capital do brasil passa a ser salvador lá no século 18 a uma alteração nessa capital a capital passa a ser o rio de janeiro observe que houve uma mudança também da presença o grande parceiro português a partir do século 18 o grande parceiro português passa a ser os ingleses vejamos nós a planta e shows carreira aqui nós temos uma imagem uma imagem famosa do dever e que via de regra os vestibulares se cobra ou aparece essa imagem nós vemos aqui negros trabalhando um serviço é na realidade moendo cana dentro de casa numa actividade doméstica mas isso aqui é o que nós vamos chamar de complexo do engenho que o caracteriza la plantation carreira a unidade de produção na planta deixam vai ser o engenho o engenheiro se caracteriza pela casa grande certo pela seus aula que aparece aqui do lado b pequeno vocês conseguem ver e pela presença da igreja e pelo engenho propriamente dito que era onde processada que era onde era processada a cana-de-açúcar bom século 17 século 16 século 17 é o certo do açúcar produção açucareira o século 18 nós vamos conhecer a atividade da mineração essa vai ser a atividade mais importante ao longo de todo esse período por que isso está acontecendo porque a mineração passará a desempenhar um papel tão importante na história brasileira a partir desse momento vejamos nós que acontece século 18 é o século da mineração por que tá acontecendo aí o século 18 para a coroa portuguesa ele representa e admiração propriamente dita representa uma expectativa na realidade representa a saída da crise pelo menos essa expectativa a expectativa da coroa vejamos porquê 1640 termina a união ibérica o que acontece aqui com portugal portugal começa na realidade a administrar novamente o país a casa de bragança começa a administrar o país só que portugal passe está passando por uma crise econômica violentíssima essa crise se espera que ela vá ser superada quando os holandeses foi expulso do brasil eo tio de fato foram em 1654 mas o que aconteceu ali porto 1 0 com os holandeses expulsos do brasil se instalam nas antilhas e passam a produzir cana-de-açúcar lá nas antilhas ou seja a coroa retomou o território de novo aquela parte mais rica do território que era o nordeste açucareiro brasileiro certo só que a crise vai continuar porque a crise continua porque o açúcar holandês é mais barato que o nosso é melhor que o nosso e concorre com o nosso acerto continua a crise portuguesa muito bem à crise econômica a coroa continua estimulando ou começa a estimular que se busque uma nova fonte de riqueza aqui no brasil quem vai se dedicar a essa atividade de busca pelos inter pelo interior do brasil pelo sertão brasileiro dessa nova riqueza são os bandeirantes muito bem final do século 17 os bandeirantes encontro lá na serra das gerais grandes jazidas de ouro a partir deste momento começa a mineração final do século 17 início do século 18 e durante todo o século 18 a mineração vai ser a atividade econômica mais importante da história brasileira e vai ser a promessa de recuperação de portugal dessa crise que já vinha amargando no mínimo por 50 anos vamos avançar a migração do século 18 vai ser importante para portugal por vários motivos porque a promessa de salvação da crise mas também pelo fato de que portugal pretende retomar as antigas glórias ao antigo período antes da fase de esplendor que ele conheceu na época do açúcar só que isso não acontece não acontece porque portugal possui uma relação muito íntima e trocou de parceiro agora o novo parceiro português passa a ser a inglaterra e boa parte do ouro português vai parar nas mãos do inglês mas aqui no brasil o que vai acontecer aqui no brasil esse ouro que se encontra nas minas gerais é um ouro que nós vamos chamar de ouro de aluvião que é o ouro que nós encontramos ó nas beiras dos rios nos lá nos lagos às margens dos riachos é um ouro de fácil extração diferentemente do ouro que nós encontramos na américa espanhola que é um ouro de lina que tem que cavar no fundo da terra que tem cavar na província tracey que tem que entrar dentro da montanha país caísse ouro aqui no brasil não aqui no brasil o ouro está ali à flor da terra é só abaixar pegar esse ouro por esse motivo a região das minas vai atrair uma quantidade imensa de pessoas para explorar esse ouro nós vamos ter lá nas minas dois tipos de exploração desse ouro um tipo que é o mais comum que é a faísca ação e um outro tipo que é mais raro mas mais lucrativo que é a palavra a diferença entre a lava a escalação é o fato de que na lavra o lavrador ele vai precisar de um grande número e vai investir muito capital pra poder extrair uma grande quantidade de ouro então ele contrata um grande número de escravos ele se utiliza de um maquinário mais moderno para poder extrair esse ouro enquanto a fabricação é o indivíduo sozinho ele mas um escravo ele mais um filho se dedicam a essa atividade é uma atividade que dá pouco retorno pouco no lucro mas ela é mais numerosa evidentemente que a coroa vai preferir isso aqui os lavradores se á se dedique mais essa atividade e por isso vai surgir alguns conflitos ali na região por conta dessa preferência da coroa muito bem a atividade mineradora vai ser importante para a história brasileira por que justamente na região das minas vai surgir uma quantidade enorme de cidades cidades que funcionam de modo muito diferente das cidades que nós temos no litoral as cidades mineiras as cidades interioranas são cidades que não param nunca são cidades que estão funcionando permanentemente diferente da cidade litorâneas nas cidades litorâneas elas têm uma atividade mais intensa durante o período da safra o quando ocorre alguma festa religiosa enquanto que lá na mineração as pessoas dormem se alimenta uma cidade comercializam produtos na cidade é uma cidade que não pára nunca a cidade está sempre funcionando muito diferente das cidades mraz mate casas daquela cidade separadas estagnadas que nós encontramos lá no litoral esse vai ser o essa vai ser uma das a uma das consequências importantes da mineração a urbanização do interior do brasil uma outra consequência importante é o fato de que nessas cidades vai surgir vão surgir lá as classes médias mas se um grupo uma camada média de pessoas que se dedicam à atividade justamente comercial é de pessoas que têm um poder de compra diferente daquilo que a gente encontra lá na região do açúcar isso vai evidentemente que trazer problemas mais adiante para a coroa porque nós temos ali um mercado interno que essa classe média consumindo esses produtos que vêm de outras regiões nós temos ali um aglomerado imenso de pessoas evidentemente que esse mercado interno que essa integração econômica que está ocorrendo no brasil ou seja outras regiões da colônia enviando produtos para as minas para suprir as necessidades de consumo desses moradores das minas isso vai fazer com que em seguida suja aqui no brasil idéias de independência idéias de rompimento não é por acaso que o primeiro movimento de emancipação no brasil vai ocorrer na região das minas certo que a conjur a mineira em 1789 uma das motivações dessa cultura mineira a mais importante talvez é que ela estava programada para ocorrer quando o governo decretasse a derrama quem era a derrama a derrama imposto não a derrama não era um imposto a derrama era a cobrança forçada de impostos atrasados a estreia de rama como assim a derrama foi instituída durante o governo com base no em 1751 o 737 esse período entre 1750 77 é o período do governo pombal ele criou uma espécie de imposto misto a dentro desse imposto estava previsto lá a cobrança da derrama ou seja a colômbia deveria mandar 100 arrobas anuais de ouro todos os anos para a metrópole sem a roupa daria mais ou menos uns 1.500 que usou uma tonelada em média todos os anos o fato é que a mineração entrou em declínio a partir justamente da segunda metade do século 18 a partir de 1760 1770 o ouro começa a escassear nas minas e por conta disso a nós não conseguimos enviar as 1500 os 1500 quilos ha para portugal há várias vezes a coroa ameaça decretar a derrama mas volta atrás porque elas se dá conta ela percebe que está ocorrendo aqui no brasil uma agitação burburinho muito grande pois em 1789 está programada a ocorrência de uma nova derrama pois é justamente por conta desse contexto turbulento desse burburinho que se organiza uma conspiração que nós vamos chamar de conjuntura mineira pra aproveitar esse momento em que a coroa vai decretar derrama ea então as realizarmos o rompimento com a coroa portuguesa só que o movimento é descoberto antes sabemos disso há os todos os conjurados vão ser julgados um deles vai ser morto enforcado e depois esquartejados que o tiradentes ea gente sabe bom como terminou o movimento ou seja que fracassou de qualquer modo nove anos depois 1798 vai eclodir uma outra conjuntura uma outra conspiração mais radical que a mineira e aí depois de uma olhadinha rapidamente nisso que a conjuntura dos alfaiates lá na bahia a coroa fica muito assustada assustada com essa quantidade de conspirações emancipacionistas que estão ocorrendo aqui no brasil já vai começar a pensar sobre o que fazer com a colônia a partir desse momento alguns na corte já falam em transferir uma parte da administração portuguesa aqui no brasil isso no século 18 isso de fato vai ocorrer logo no início do 19 mas por outros fatores por forças com o motivo de força maior há uma outra conjuntura se alterou na europa e isso nós veremos depois na nossa próxima aula bom vamos dar uma examinada agora na estrutura de administração que os portugueses montaram lá no início da colonização lá 1.530 essa estrutura é ainda está funcionando a estamos no século 18 e ela ainda existe vamos ver lá os portugueses se apossam de um território bastante grande certo essa colônia aqui na américa tem a colônia portuguesa a melhor portuguesa tem que ser administrada de alguma forma que eles fazem eles dividem então o território em capitanias capitania são faixas de terra que iniciam no litoral e vão até o tratado até o meridiano de tordesilhas muito bem as capitanias hereditárias ou esse modelo de administração fracassa o objetivo maior do governo era justamente que se centralizar se o poder de alguma forma se colonizar se promovesse a colonização ea ocupação do território a partir dos capitães donatários a partir das capitanias hereditárias não funcionou o governo o governo português a coroa portuguesa estabelece então muda o sistema cria os governos gerais esse governo geral 1548 ele tem a função justamente de centralizar o poder aqui o governo geral também fracassa não é seu objetivo porque que fracassa porque as capitanias fracassaram porque o governo federal fracassou por um motivo bastante simples havia um terceiro foco de poder que era muito mais forte que um dos capitães donatários até mesmo dos governos gerais que são as câmaras municipais nas câmaras municipais nós encontramos lá a figura do homem bom que é o homem bom o homem bom é um latifundiário um dono de terras onde escravos e que administra na realidade a localidade cada cidade cada vila tem uma câmara municipal que é responsável por administrar uma determinada região são as câmaras municipais os verdadeiros focos e centros de poder no período colonial então revisando nós temos três estruturas políticas três estruturas administrativas que se sobrepõe no tempo aqui durante o período colonial as capitanias hereditárias os governos gerais e as câmaras municipais vamos ver agora mais um pouquinho vamos avançar que sociedade é essa que se formou aí no período colonial brasileiro a sociedade brasileira no período colonial ela vai ser uma sociedade rural patriarcal hierárquica que significa isso que toda atividade praticamente toda a vida estava organizada no campo da zona rural que essa sociedade patriarcal é a sociedade patriarcal significa que o senhor o patriarca o senhor de engenho o dono de terras ele tem um homem a um sexo masculino tem um poder muito grande sobre sobre quem poder de vida e morte do patriarca tem sobre a mulher sobre os filhos sobre seus escravos sobre os seus dependentes e até mesmo sobre a vizinhança esse é o largo e amplo poder que o patriarca goza no período colonial por isso há uma necessidade de sociedade patriarcal nós dizemos também que essa sociedade é uma sociedade hierárquica porque ela é hierarquia porque há pouca mobilidade social a funaci lá na ponta da pirâmide a como uma estocada como o senhor de engenho como dono de terras ato nunca vai descer lá para a condição de escravo do mesmo modo como nós vamos encontrar um escravo que vá ascender à condição de senhor a a mobilidade é muito pequena entre os senhores e escravos nós temos um grupo não podemos chamar de grupo intermediário que não chega a constituir uma classe social um grupo intermediário um grupo de pessoas que são dependentes normalmente do senhor de engenho independente dos senhores composta por homens brancos composta por pêlos apadrinhados pelos apaniguados desse senhor mas que são muito dependentes do ponto de vista econômico do ponto de vista político desse senhor não tem por isso que nós chamamos a sociedade então de uma sociedade hierárquica essa sociedade hierárquica a com pouca mobilidade social ela de alguns de alguma forma ela vai marcar muito a sociedade brasileira até os dias de hoje muito bem vamos dar uma examinada em algumas imagens pandit justamente ver vejamos aqui o senhor de engenho a ou os senhores o homem branco nesse período ele é sequer se dignava a pisar no chão a nós temos aqui escravos conduzindo um senhor a para algum gasto está vindo de algum lugar indo pra outro da câmara indo para sua casa ou indo para a câmara municipal am an an não pisa homem branco não pisa no chão então o pessoal vou mostrar para vocês algumas imagens que são recorrentes nas provas de vestibular e do enem que caracterizam a sociedade patriarcal essa sociedade hierárquica essa sociedade rural do período colonial brasileiro o pessoal ficamos por aqui então e nos vemos nosso próximo encontro anual livre ponto net é mais siga ao ar livre ponto net nas redes sociais e fique por dentro de tudo que acontece em nossos cursos youtube twitter e facebook aula livre ponto net seu portal de cursos grátis\n"
     ]
    }
   ],
   "source": [
    "transcript_text = \" \".join([entry['text'] for entry in transcript])\n",
    "print(transcript_text)"
   ]
  },
  {
   "cell_type": "code",
   "execution_count": 5,
   "metadata": {},
   "outputs": [],
   "source": [
    "from openai import OpenAI\n",
    "from dotenv import load_dotenv\n",
    "import os\n",
    "\n",
    "load_dotenv()\n",
    "\n",
    "client = OpenAI(\n",
    "    api_key=os.environ.get(\"OPENAI_API_KEY\"),\n",
    ")"
   ]
  },
  {
   "cell_type": "code",
   "execution_count": 9,
   "metadata": {},
   "outputs": [],
   "source": [
    "response = client.chat.completions.create(\n",
    "    model=\"gpt-3.5-turbo\",\n",
    "    messages=[\n",
    "        {\"role\": \"system\", \"content\": \"Você é um excelente assistente\"},\n",
    "        {\"role\": \"user\", \"content\": \"Quero um resumo do vídeo\"},\n",
    "        {\"role\": \"system\", \"content\": \"Claro, vou te ajudar com isso\"},\n",
    "        {\"role\": \"user\", \"content\": transcript_text},\n",
    "    ],\n",
    ")"
   ]
  },
  {
   "cell_type": "code",
   "execution_count": 12,
   "metadata": {},
   "outputs": [
    {
     "name": "stdout",
     "output_type": "stream",
     "text": [
      "O vídeo trata de uma revisão da história do Brasil durante o período colonial, abordando as dificuldades dos alunos em compreender um período tão extenso que vai de 1500 até 1822. O professor divide esse período em pré-colonial e colonial, destacando a influência da União Ibérica entre 1580 e 1640, quando o Brasil era uma colônia espanhola. Ele discute a exploração do pau-brasil, a atividade açucareira no século 16 e 17, e a mineração de ouro no século 18. O professor destaca a sociedade rural patriarcal e hierárquica, com foco no poder dos senhores de engenho e na pouca mobilidade social. Ele também menciona movimentos emancipacionistas, como a Conjuração Mineira, e a estrutura administrativa do período, destacando as capitanias hereditárias, governos gerais e câmaras municipais. O vídeo fornece uma visão geral do período colonial brasileiro, abordando aspectos econômicos, políticos e sociais.\n"
     ]
    }
   ],
   "source": [
    "resumo = response.choices[0].message.content\n",
    "print(resumo)"
   ]
  },
  {
   "cell_type": "code",
   "execution_count": 13,
   "metadata": {},
   "outputs": [],
   "source": [
    "with open(\"resumo.txt\", \"w\") as f:\n",
    "    f.write(resumo)"
   ]
  }
 ],
 "metadata": {
  "kernelspec": {
   "display_name": ".venv",
   "language": "python",
   "name": "python3"
  },
  "language_info": {
   "codemirror_mode": {
    "name": "ipython",
    "version": 3
   },
   "file_extension": ".py",
   "mimetype": "text/x-python",
   "name": "python",
   "nbconvert_exporter": "python",
   "pygments_lexer": "ipython3",
   "version": "3.8.10"
  }
 },
 "nbformat": 4,
 "nbformat_minor": 2
}
